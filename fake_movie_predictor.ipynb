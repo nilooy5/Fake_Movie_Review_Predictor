{
 "cells": [
  {
   "cell_type": "markdown",
   "source": [
    " # B1. Data set selection and description\n",
    "For this project we are aiming to differentiate between a real movie review and a bot/AI generated review. To do this we have collected a huge number of real movie reviews which we have got from this website of cornell university called [The Movie Review Data](http://www.cs.cornell.edu/people/pabo/movie-review-data/). This website has review data in different formats but since we are interested to work with subjective and qualitative data we took the ones with the text reviews. The archive file has almost 1400 review as text files sorted as positive and negative. Since we have a bottleneck in generating fake movie review we picked only 250 positive and 250 negative = 500 real movie reviews. After getting the real reviews we have tried to find the online dataset sources where we could find fake reviews but we could not find any dataset or website with text where there are fake/AI generated movie review data. So we decided to generate AI written movie reviews from an website called [inferkit](https://app.inferkit.com/generate). Since we want to make our data balanced we made a batch request of creating reviews of 500 movies which returned us with an csv file with movie name and corresponding generated review. Now we have a balanced dataset of 500+500 movie reviews and we will move to our next step."
   ],
   "metadata": {
    "collapsed": false
   }
  },
  {
   "cell_type": "code",
   "execution_count": 1,
   "outputs": [],
   "source": [
    "import glob\n",
    "\n",
    "import pandas as pd\n",
    "import os\n"
   ],
   "metadata": {
    "collapsed": false
   }
  },
  {
   "cell_type": "markdown",
   "source": [
    "# B3. Data preparation including transforms, scaling, re-shaping and any feature selection to reduce dimensionality. Summary of cleaned/pre-processed data.\n",
    "Our data is stored in the `data` folder where we have the **_fake_** reviews stored in the `generated_reviews_500.csv` and the **_real_** reviews are stored as text files in the `real_reviews` folder"
   ],
   "metadata": {
    "collapsed": false
   }
  },
  {
   "cell_type": "code",
   "execution_count": 5,
   "outputs": [
    {
     "name": "stdout",
     "output_type": "stream",
     "text": [
      "                                                text\n",
      "0  an attempt at florida film noir , palmetto fai...\n",
      "1  birthdays often cause individuals to access th...\n",
      "2  summer catch ( 2001 ) . starring freddie prinz...\n",
      "3  as far as \" mystery men \" is concerned , the b...\n",
      "4  the team who brought us 'a fish called wanda' ...\n"
     ]
    },
    {
     "data": {
      "text/plain": "   prompt_index                         prompt_text  completion_index  \\\n0             0      A review of The Social Network                 0   \n1             1   A review of The Last Witch Hunter                 0   \n2             2     A review of Victor Frankenstein                 0   \n3             3  A review of A Street Cat Named Bob                 0   \n4             4              A review of Green Room                 0   \n\n                                          completion  \\\n0  , the movie about the founding of Facebook, ha...   \n1  , a new action-horror film from director Neill...   \n2  \\n\\nThe Frankenstein Chronicles\\n\\nA review of...   \n3  , by James Bowen\\n\\nA Street Cat Named Bob, by...   \n4  \\n\\nGreen Room\\n\\nDirected by Jeremy Saulnier\\...   \n\n                                           full_text  reached_end  \n0  A review of The Social Network, the movie abou...        False  \n1  A review of The Last Witch Hunter, a new actio...        False  \n2  A review of Victor Frankenstein\\n\\nThe Franken...        False  \n3  A review of A Street Cat Named Bob, by James B...        False  \n4  A review of Green Room\\n\\nGreen Room\\n\\nDirect...        False  ",
      "text/html": "<div>\n<style scoped>\n    .dataframe tbody tr th:only-of-type {\n        vertical-align: middle;\n    }\n\n    .dataframe tbody tr th {\n        vertical-align: top;\n    }\n\n    .dataframe thead th {\n        text-align: right;\n    }\n</style>\n<table border=\"1\" class=\"dataframe\">\n  <thead>\n    <tr style=\"text-align: right;\">\n      <th></th>\n      <th>prompt_index</th>\n      <th>prompt_text</th>\n      <th>completion_index</th>\n      <th>completion</th>\n      <th>full_text</th>\n      <th>reached_end</th>\n    </tr>\n  </thead>\n  <tbody>\n    <tr>\n      <th>0</th>\n      <td>0</td>\n      <td>A review of The Social Network</td>\n      <td>0</td>\n      <td>, the movie about the founding of Facebook, ha...</td>\n      <td>A review of The Social Network, the movie abou...</td>\n      <td>False</td>\n    </tr>\n    <tr>\n      <th>1</th>\n      <td>1</td>\n      <td>A review of The Last Witch Hunter</td>\n      <td>0</td>\n      <td>, a new action-horror film from director Neill...</td>\n      <td>A review of The Last Witch Hunter, a new actio...</td>\n      <td>False</td>\n    </tr>\n    <tr>\n      <th>2</th>\n      <td>2</td>\n      <td>A review of Victor Frankenstein</td>\n      <td>0</td>\n      <td>\\n\\nThe Frankenstein Chronicles\\n\\nA review of...</td>\n      <td>A review of Victor Frankenstein\\n\\nThe Franken...</td>\n      <td>False</td>\n    </tr>\n    <tr>\n      <th>3</th>\n      <td>3</td>\n      <td>A review of A Street Cat Named Bob</td>\n      <td>0</td>\n      <td>, by James Bowen\\n\\nA Street Cat Named Bob, by...</td>\n      <td>A review of A Street Cat Named Bob, by James B...</td>\n      <td>False</td>\n    </tr>\n    <tr>\n      <th>4</th>\n      <td>4</td>\n      <td>A review of Green Room</td>\n      <td>0</td>\n      <td>\\n\\nGreen Room\\n\\nDirected by Jeremy Saulnier\\...</td>\n      <td>A review of Green Room\\n\\nGreen Room\\n\\nDirect...</td>\n      <td>False</td>\n    </tr>\n  </tbody>\n</table>\n</div>"
     },
     "execution_count": 5,
     "metadata": {},
     "output_type": "execute_result"
    }
   ],
   "source": [
    "def read_files(text_files_dir):\n",
    "    path = text_files_dir\n",
    "    files = glob.glob(os.path.join(path, '*.txt'))\n",
    "    real_reviews = []\n",
    "    for file in files:\n",
    "        with open(file, 'r') as f:\n",
    "            real_reviews.append(f.read())\n",
    "\n",
    "    return real_reviews\n",
    "\n",
    "\n",
    "reviews_list = read_files('data/real_reviews')\n",
    "# convert it to a pandas dataframe\n",
    "reviews_real = pd.DataFrame(reviews_list, columns=['text'])\n",
    "print(reviews_real.head())\n",
    "\n",
    "reviews_generated = pd.read_csv('data/generated_reviews_500.csv')\n",
    "reviews_generated.head()"
   ],
   "metadata": {
    "collapsed": false
   }
  },
  {
   "cell_type": "markdown",
   "source": [
    "### Transforms\n",
    "we are dropping all columns except the **_full_text_** and renaming it to **_text_** to keep it consistent with the dataframe containing real reviews"
   ],
   "metadata": {
    "collapsed": false
   }
  },
  {
   "cell_type": "code",
   "execution_count": 6,
   "outputs": [
    {
     "data": {
      "text/plain": "Index(['text'], dtype='object')"
     },
     "execution_count": 6,
     "metadata": {},
     "output_type": "execute_result"
    }
   ],
   "source": [
    "# drop all columns except the full_text column\n",
    "reviews_generated = reviews_generated.drop(['prompt_index',\n",
    "                                            'prompt_text',\n",
    "                                            'completion_index',\n",
    "                                            'completion',\n",
    "                                            'reached_end'],\n",
    "                                           axis=1)\n",
    "# rename the full_text column to text\n",
    "reviews_generated = reviews_generated.rename(columns={'full_text': 'text'})\n",
    "reviews_generated.columns"
   ],
   "metadata": {
    "collapsed": false
   }
  },
  {
   "cell_type": "markdown",
   "source": [
    "after this we are adding a new column to both data frames named **label** containing boolean value. **1** means a real review and **0** means a fake or generated review"
   ],
   "metadata": {
    "collapsed": false
   }
  },
  {
   "cell_type": "code",
   "execution_count": 7,
   "outputs": [
    {
     "name": "stdout",
     "output_type": "stream",
     "text": [
      "                                                text  label\n",
      "0  an attempt at florida film noir , palmetto fai...      1\n",
      "1  birthdays often cause individuals to access th...      1\n",
      "2  summer catch ( 2001 ) . starring freddie prinz...      1\n",
      "3  as far as \" mystery men \" is concerned , the b...      1\n",
      "4  the team who brought us 'a fish called wanda' ...      1\n",
      "500\n",
      "                                                text  label\n",
      "0  A review of The Social Network, the movie abou...      0\n",
      "1  A review of The Last Witch Hunter, a new actio...      0\n",
      "2  A review of Victor Frankenstein\\n\\nThe Franken...      0\n",
      "3  A review of A Street Cat Named Bob, by James B...      0\n",
      "4  A review of Green Room\\n\\nGreen Room\\n\\nDirect...      0\n",
      "500\n"
     ]
    }
   ],
   "source": [
    "reviews_real['label'] = 1\n",
    "print(reviews_real.head())\n",
    "print(len(reviews_real))\n",
    "\n",
    "reviews_generated['label'] = 0\n",
    "print(reviews_generated.head())\n",
    "print(len(reviews_generated))\n"
   ],
   "metadata": {
    "collapsed": false
   }
  },
  {
   "cell_type": "markdown",
   "source": [
    "### Scaling, Re-shaping & Reducing Dimensionality"
   ],
   "metadata": {
    "collapsed": false
   }
  },
  {
   "cell_type": "markdown",
   "source": [
    "Now we will merge these 2 dataframes and shuffle them for better mix of data before training"
   ],
   "metadata": {
    "collapsed": false
   }
  },
  {
   "cell_type": "code",
   "execution_count": 8,
   "outputs": [
    {
     "name": "stdout",
     "output_type": "stream",
     "text": [
      "                                                text  label\n",
      "0  A review of Contagion, the new movie starring ...      0\n",
      "1  if there has been a better comedy of errors th...      1\n",
      "2  A review of The Other Woman by Claire Messud\\n...      0\n",
      "3  silent fall has the shreds and shards of a far...      1\n",
      "4  starring : matt damon , ben affleck , linda fi...      1\n"
     ]
    }
   ],
   "source": [
    "# merge the two dataframes\n",
    "reviews = pd.concat([reviews_real, reviews_generated], ignore_index=True)\n",
    "# random shuffle the dataframe\n",
    "reviews = reviews.sample(frac=1).reset_index(drop=True)\n",
    "print(reviews.head())"
   ],
   "metadata": {
    "collapsed": false
   }
  },
  {
   "cell_type": "markdown",
   "source": [
    "# B2. Dataset analysis, visualisation, feature correlation, insights extracted from data visualisation"
   ],
   "metadata": {
    "collapsed": false
   }
  },
  {
   "cell_type": "code",
   "execution_count": null,
   "outputs": [],
   "source": [],
   "metadata": {
    "collapsed": false
   }
  },
  {
   "cell_type": "markdown",
   "source": [
    "# B4. Selection of 3-4 algorithms most appropriate. Justify your selection."
   ],
   "metadata": {
    "collapsed": false
   }
  },
  {
   "cell_type": "markdown",
   "source": [],
   "metadata": {
    "collapsed": false
   }
  }
 ],
 "metadata": {
  "kernelspec": {
   "display_name": "Python 3",
   "language": "python",
   "name": "python3"
  },
  "language_info": {
   "codemirror_mode": {
    "name": "ipython",
    "version": 2
   },
   "file_extension": ".py",
   "mimetype": "text/x-python",
   "name": "python",
   "nbconvert_exporter": "python",
   "pygments_lexer": "ipython2",
   "version": "2.7.6"
  }
 },
 "nbformat": 4,
 "nbformat_minor": 0
}
